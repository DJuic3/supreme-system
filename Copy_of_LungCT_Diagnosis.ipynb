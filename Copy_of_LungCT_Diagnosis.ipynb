{
  "nbformat": 4,
  "nbformat_minor": 0,
  "metadata": {
    "colab": {
      "name": "Copy of LungCT-Diagnosis.ipynb",
      "provenance": [],
      "collapsed_sections": [],
      "include_colab_link": true
    },
    "kernelspec": {
      "name": "python3",
      "display_name": "Python 3"
    },
    "accelerator": "GPU"
  },
  "cells": [
    {
      "cell_type": "markdown",
      "metadata": {
        "id": "view-in-github",
        "colab_type": "text"
      },
      "source": [
        "<a href=\"https://colab.research.google.com/github/DJuic3/supreme-system/blob/master/Copy_of_LungCT_Diagnosis.ipynb\" target=\"_parent\"><img src=\"https://colab.research.google.com/assets/colab-badge.svg\" alt=\"Open In Colab\"/></a>"
      ]
    },
    {
      "cell_type": "code",
      "metadata": {
        "id": "210K-i2wx1VX",
        "colab": {
          "base_uri": "https://localhost:8080/"
        },
        "outputId": "7eec52c7-9a96-4898-e04d-adac102cdddf"
      },
      "source": [
        "cd /content/drive/My Drive/CT_Scan"
      ],
      "execution_count": 4,
      "outputs": [
        {
          "output_type": "stream",
          "name": "stdout",
          "text": [
            "/content/drive/My Drive/CT_Scan\n"
          ]
        }
      ]
    },
    {
      "cell_type": "code",
      "metadata": {
        "id": "GGhaKrN9zMPR",
        "colab": {
          "base_uri": "https://localhost:8080/"
        },
        "outputId": "550c75ef-7d10-45a1-9441-6acb73739e63"
      },
      "source": [
        "!pip install pydicom"
      ],
      "execution_count": 5,
      "outputs": [
        {
          "output_type": "stream",
          "name": "stdout",
          "text": [
            "Collecting pydicom\n",
            "  Downloading pydicom-2.2.2-py3-none-any.whl (2.0 MB)\n",
            "\u001b[K     |████████████████████████████████| 2.0 MB 12.9 MB/s \n",
            "\u001b[?25hInstalling collected packages: pydicom\n",
            "Successfully installed pydicom-2.2.2\n"
          ]
        }
      ]
    },
    {
      "cell_type": "code",
      "metadata": {
        "id": "ws29hCInyN17",
        "colab": {
          "base_uri": "https://localhost:8080/",
          "height": 237
        },
        "outputId": "30428d29-e63d-4553-ddc9-28c949353f18"
      },
      "source": [
        "import pydicom as dicom # for reading dicom files\n",
        "import os # for doing directory operations \n",
        "import pandas as pd # for some simple data analysis \n",
        "# Working Data Directory\n",
        "data_dir = '/content/drive/My Drive/CT_Scan/LungCT-Diagnosis.ipynb'\n",
        "patients = os.path.join(data_dir)\n",
        "\n",
        "labels_df = pd.read_csv('/content/drive/My Drive/CT_Scan/LungCT-Labels - Sheet1.csv', index_col=0)\n",
        "\n",
        "labels_df.head()"
      ],
      "execution_count": 6,
      "outputs": [
        {
          "output_type": "execute_result",
          "data": {
            "text/plain": [
              "            Labels\n",
              "Patient Id        \n",
              "R_004            1\n",
              "R_006            1\n",
              "R_013            1\n",
              "R_014            1\n",
              "R_019            0"
            ],
            "text/html": [
              "\n",
              "  <div id=\"df-993d1438-12c8-4dfc-b81d-a5443ae90eef\">\n",
              "    <div class=\"colab-df-container\">\n",
              "      <div>\n",
              "<style scoped>\n",
              "    .dataframe tbody tr th:only-of-type {\n",
              "        vertical-align: middle;\n",
              "    }\n",
              "\n",
              "    .dataframe tbody tr th {\n",
              "        vertical-align: top;\n",
              "    }\n",
              "\n",
              "    .dataframe thead th {\n",
              "        text-align: right;\n",
              "    }\n",
              "</style>\n",
              "<table border=\"1\" class=\"dataframe\">\n",
              "  <thead>\n",
              "    <tr style=\"text-align: right;\">\n",
              "      <th></th>\n",
              "      <th>Labels</th>\n",
              "    </tr>\n",
              "    <tr>\n",
              "      <th>Patient Id</th>\n",
              "      <th></th>\n",
              "    </tr>\n",
              "  </thead>\n",
              "  <tbody>\n",
              "    <tr>\n",
              "      <th>R_004</th>\n",
              "      <td>1</td>\n",
              "    </tr>\n",
              "    <tr>\n",
              "      <th>R_006</th>\n",
              "      <td>1</td>\n",
              "    </tr>\n",
              "    <tr>\n",
              "      <th>R_013</th>\n",
              "      <td>1</td>\n",
              "    </tr>\n",
              "    <tr>\n",
              "      <th>R_014</th>\n",
              "      <td>1</td>\n",
              "    </tr>\n",
              "    <tr>\n",
              "      <th>R_019</th>\n",
              "      <td>0</td>\n",
              "    </tr>\n",
              "  </tbody>\n",
              "</table>\n",
              "</div>\n",
              "      <button class=\"colab-df-convert\" onclick=\"convertToInteractive('df-993d1438-12c8-4dfc-b81d-a5443ae90eef')\"\n",
              "              title=\"Convert this dataframe to an interactive table.\"\n",
              "              style=\"display:none;\">\n",
              "        \n",
              "  <svg xmlns=\"http://www.w3.org/2000/svg\" height=\"24px\"viewBox=\"0 0 24 24\"\n",
              "       width=\"24px\">\n",
              "    <path d=\"M0 0h24v24H0V0z\" fill=\"none\"/>\n",
              "    <path d=\"M18.56 5.44l.94 2.06.94-2.06 2.06-.94-2.06-.94-.94-2.06-.94 2.06-2.06.94zm-11 1L8.5 8.5l.94-2.06 2.06-.94-2.06-.94L8.5 2.5l-.94 2.06-2.06.94zm10 10l.94 2.06.94-2.06 2.06-.94-2.06-.94-.94-2.06-.94 2.06-2.06.94z\"/><path d=\"M17.41 7.96l-1.37-1.37c-.4-.4-.92-.59-1.43-.59-.52 0-1.04.2-1.43.59L10.3 9.45l-7.72 7.72c-.78.78-.78 2.05 0 2.83L4 21.41c.39.39.9.59 1.41.59.51 0 1.02-.2 1.41-.59l7.78-7.78 2.81-2.81c.8-.78.8-2.07 0-2.86zM5.41 20L4 18.59l7.72-7.72 1.47 1.35L5.41 20z\"/>\n",
              "  </svg>\n",
              "      </button>\n",
              "      \n",
              "  <style>\n",
              "    .colab-df-container {\n",
              "      display:flex;\n",
              "      flex-wrap:wrap;\n",
              "      gap: 12px;\n",
              "    }\n",
              "\n",
              "    .colab-df-convert {\n",
              "      background-color: #E8F0FE;\n",
              "      border: none;\n",
              "      border-radius: 50%;\n",
              "      cursor: pointer;\n",
              "      display: none;\n",
              "      fill: #1967D2;\n",
              "      height: 32px;\n",
              "      padding: 0 0 0 0;\n",
              "      width: 32px;\n",
              "    }\n",
              "\n",
              "    .colab-df-convert:hover {\n",
              "      background-color: #E2EBFA;\n",
              "      box-shadow: 0px 1px 2px rgba(60, 64, 67, 0.3), 0px 1px 3px 1px rgba(60, 64, 67, 0.15);\n",
              "      fill: #174EA6;\n",
              "    }\n",
              "\n",
              "    [theme=dark] .colab-df-convert {\n",
              "      background-color: #3B4455;\n",
              "      fill: #D2E3FC;\n",
              "    }\n",
              "\n",
              "    [theme=dark] .colab-df-convert:hover {\n",
              "      background-color: #434B5C;\n",
              "      box-shadow: 0px 1px 3px 1px rgba(0, 0, 0, 0.15);\n",
              "      filter: drop-shadow(0px 1px 2px rgba(0, 0, 0, 0.3));\n",
              "      fill: #FFFFFF;\n",
              "    }\n",
              "  </style>\n",
              "\n",
              "      <script>\n",
              "        const buttonEl =\n",
              "          document.querySelector('#df-993d1438-12c8-4dfc-b81d-a5443ae90eef button.colab-df-convert');\n",
              "        buttonEl.style.display =\n",
              "          google.colab.kernel.accessAllowed ? 'block' : 'none';\n",
              "\n",
              "        async function convertToInteractive(key) {\n",
              "          const element = document.querySelector('#df-993d1438-12c8-4dfc-b81d-a5443ae90eef');\n",
              "          const dataTable =\n",
              "            await google.colab.kernel.invokeFunction('convertToInteractive',\n",
              "                                                     [key], {});\n",
              "          if (!dataTable) return;\n",
              "\n",
              "          const docLinkHtml = 'Like what you see? Visit the ' +\n",
              "            '<a target=\"_blank\" href=https://colab.research.google.com/notebooks/data_table.ipynb>data table notebook</a>'\n",
              "            + ' to learn more about interactive tables.';\n",
              "          element.innerHTML = '';\n",
              "          dataTable['output_type'] = 'display_data';\n",
              "          await google.colab.output.renderOutput(dataTable, element);\n",
              "          const docLink = document.createElement('div');\n",
              "          docLink.innerHTML = docLinkHtml;\n",
              "          element.appendChild(docLink);\n",
              "        }\n",
              "      </script>\n",
              "    </div>\n",
              "  </div>\n",
              "  "
            ]
          },
          "metadata": {},
          "execution_count": 6
        }
      ]
    },
    {
      "cell_type": "code",
      "metadata": {
        "id": "0DAGYR85zDlw",
        "colab": {
          "base_uri": "https://localhost:8080/",
          "height": 234
        },
        "outputId": "e3edb6d8-b272-4126-d700-c5b8486fbe71"
      },
      "source": [
        "for patient in patients[:10]:\n",
        "    label = labels_df.get(patient, 'Labels')\n",
        "    path =  data_dir + patient\n",
        "#slices= no. of scans in each patient folder  \n",
        "    slices = [dicom.read_file(path + '/' + s) for s in  os.listdir(path)]\n",
        "    slices.sort(key = lambda x: int(x.ImagePositionPatient[2]))\n",
        "    print(slices[0].pixel_array.shape, len(slices))"
      ],
      "execution_count": 19,
      "outputs": [
        {
          "output_type": "error",
          "ename": "FileNotFoundError",
          "evalue": "ignored",
          "traceback": [
            "\u001b[0;31m---------------------------------------------------------------------------\u001b[0m",
            "\u001b[0;31mFileNotFoundError\u001b[0m                         Traceback (most recent call last)",
            "\u001b[0;32m<ipython-input-19-39d9aba72e46>\u001b[0m in \u001b[0;36m<module>\u001b[0;34m()\u001b[0m\n\u001b[1;32m      3\u001b[0m     \u001b[0mpath\u001b[0m \u001b[0;34m=\u001b[0m  \u001b[0mdata_dir\u001b[0m \u001b[0;34m+\u001b[0m \u001b[0mpatient\u001b[0m\u001b[0;34m\u001b[0m\u001b[0;34m\u001b[0m\u001b[0m\n\u001b[1;32m      4\u001b[0m \u001b[0;31m#slices= no. of scans in each patient folder\u001b[0m\u001b[0;34m\u001b[0m\u001b[0;34m\u001b[0m\u001b[0;34m\u001b[0m\u001b[0m\n\u001b[0;32m----> 5\u001b[0;31m     \u001b[0mslices\u001b[0m \u001b[0;34m=\u001b[0m \u001b[0;34m[\u001b[0m\u001b[0mdicom\u001b[0m\u001b[0;34m.\u001b[0m\u001b[0mread_file\u001b[0m\u001b[0;34m(\u001b[0m\u001b[0mpath\u001b[0m \u001b[0;34m+\u001b[0m \u001b[0;34m'/'\u001b[0m \u001b[0;34m+\u001b[0m \u001b[0ms\u001b[0m\u001b[0;34m)\u001b[0m \u001b[0;32mfor\u001b[0m \u001b[0ms\u001b[0m \u001b[0;32min\u001b[0m  \u001b[0mos\u001b[0m\u001b[0;34m.\u001b[0m\u001b[0mlistdir\u001b[0m\u001b[0;34m(\u001b[0m\u001b[0mpath\u001b[0m\u001b[0;34m)\u001b[0m\u001b[0;34m]\u001b[0m\u001b[0;34m\u001b[0m\u001b[0;34m\u001b[0m\u001b[0m\n\u001b[0m\u001b[1;32m      6\u001b[0m     \u001b[0mslices\u001b[0m\u001b[0;34m.\u001b[0m\u001b[0msort\u001b[0m\u001b[0;34m(\u001b[0m\u001b[0mkey\u001b[0m \u001b[0;34m=\u001b[0m \u001b[0;32mlambda\u001b[0m \u001b[0mx\u001b[0m\u001b[0;34m:\u001b[0m \u001b[0mint\u001b[0m\u001b[0;34m(\u001b[0m\u001b[0mx\u001b[0m\u001b[0;34m.\u001b[0m\u001b[0mImagePositionPatient\u001b[0m\u001b[0;34m[\u001b[0m\u001b[0;36m2\u001b[0m\u001b[0;34m]\u001b[0m\u001b[0;34m)\u001b[0m\u001b[0;34m)\u001b[0m\u001b[0;34m\u001b[0m\u001b[0;34m\u001b[0m\u001b[0m\n\u001b[1;32m      7\u001b[0m     \u001b[0mprint\u001b[0m\u001b[0;34m(\u001b[0m\u001b[0mslices\u001b[0m\u001b[0;34m[\u001b[0m\u001b[0;36m0\u001b[0m\u001b[0;34m]\u001b[0m\u001b[0;34m.\u001b[0m\u001b[0mpixel_array\u001b[0m\u001b[0;34m.\u001b[0m\u001b[0mshape\u001b[0m\u001b[0;34m,\u001b[0m \u001b[0mlen\u001b[0m\u001b[0;34m(\u001b[0m\u001b[0mslices\u001b[0m\u001b[0;34m)\u001b[0m\u001b[0;34m)\u001b[0m\u001b[0;34m\u001b[0m\u001b[0;34m\u001b[0m\u001b[0m\n",
            "\u001b[0;31mFileNotFoundError\u001b[0m: [Errno 2] No such file or directory: '/content/drive/My Drive/CT_Scan/LungCT-Diagnosis.ipynb/'"
          ]
        }
      ]
    },
    {
      "cell_type": "code",
      "metadata": {
        "id": "p365ghx43AIr",
        "colab": {
          "base_uri": "https://localhost:8080/"
        },
        "outputId": "61e6d0d0-d52b-4528-c257-e688049c2a94"
      },
      "source": [
        "len(patients)\n"
      ],
      "execution_count": null,
      "outputs": [
        {
          "output_type": "execute_result",
          "data": {
            "text/plain": [
              "54"
            ]
          },
          "metadata": {},
          "execution_count": 45
        }
      ]
    },
    {
      "cell_type": "code",
      "metadata": {
        "id": "gmjJD-5c3CWR",
        "colab": {
          "base_uri": "https://localhost:8080/",
          "height": 234
        },
        "outputId": "4518a1e6-7e8c-49d9-80c6-9fad9e02831d"
      },
      "source": [
        "import matplotlib.pyplot as plt\n",
        "\n",
        "for patient in patients[:1]:\n",
        "    label = labels_df.get(patient, 'Labels')\n",
        "    path = data_dir + patient\n",
        "    slices = [dicom.read_file(path + '/' + s) for s in os.listdir(path)]\n",
        "    slices.sort(key = lambda x: int(x.ImagePositionPatient[2]))\n",
        "    \n",
        "    # displaying the first slice\n",
        "    plt.imshow(slices[0].pixel_array)\n",
        "    plt.show()"
      ],
      "execution_count": null,
      "outputs": [
        {
          "output_type": "error",
          "ename": "FileNotFoundError",
          "evalue": "ignored",
          "traceback": [
            "\u001b[0;31m---------------------------------------------------------------------------\u001b[0m",
            "\u001b[0;31mFileNotFoundError\u001b[0m                         Traceback (most recent call last)",
            "\u001b[0;32m<ipython-input-48-a4e00b6e5cf6>\u001b[0m in \u001b[0;36m<module>\u001b[0;34m()\u001b[0m\n\u001b[1;32m      4\u001b[0m     \u001b[0mlabel\u001b[0m \u001b[0;34m=\u001b[0m \u001b[0mlabels_df\u001b[0m\u001b[0;34m.\u001b[0m\u001b[0mget\u001b[0m\u001b[0;34m(\u001b[0m\u001b[0mpatient\u001b[0m\u001b[0;34m,\u001b[0m \u001b[0;34m'Labels'\u001b[0m\u001b[0;34m)\u001b[0m\u001b[0;34m\u001b[0m\u001b[0;34m\u001b[0m\u001b[0m\n\u001b[1;32m      5\u001b[0m     \u001b[0mpath\u001b[0m \u001b[0;34m=\u001b[0m \u001b[0mdata_dir\u001b[0m \u001b[0;34m+\u001b[0m \u001b[0mpatient\u001b[0m\u001b[0;34m\u001b[0m\u001b[0;34m\u001b[0m\u001b[0m\n\u001b[0;32m----> 6\u001b[0;31m     \u001b[0mslices\u001b[0m \u001b[0;34m=\u001b[0m \u001b[0;34m[\u001b[0m\u001b[0mdicom\u001b[0m\u001b[0;34m.\u001b[0m\u001b[0mread_file\u001b[0m\u001b[0;34m(\u001b[0m\u001b[0mpath\u001b[0m \u001b[0;34m+\u001b[0m \u001b[0;34m'/'\u001b[0m \u001b[0;34m+\u001b[0m \u001b[0ms\u001b[0m\u001b[0;34m)\u001b[0m \u001b[0;32mfor\u001b[0m \u001b[0ms\u001b[0m \u001b[0;32min\u001b[0m \u001b[0mos\u001b[0m\u001b[0;34m.\u001b[0m\u001b[0mlistdir\u001b[0m\u001b[0;34m(\u001b[0m\u001b[0mpath\u001b[0m\u001b[0;34m)\u001b[0m\u001b[0;34m]\u001b[0m\u001b[0;34m\u001b[0m\u001b[0;34m\u001b[0m\u001b[0m\n\u001b[0m\u001b[1;32m      7\u001b[0m     \u001b[0mslices\u001b[0m\u001b[0;34m.\u001b[0m\u001b[0msort\u001b[0m\u001b[0;34m(\u001b[0m\u001b[0mkey\u001b[0m \u001b[0;34m=\u001b[0m \u001b[0;32mlambda\u001b[0m \u001b[0mx\u001b[0m\u001b[0;34m:\u001b[0m \u001b[0mint\u001b[0m\u001b[0;34m(\u001b[0m\u001b[0mx\u001b[0m\u001b[0;34m.\u001b[0m\u001b[0mImagePositionPatient\u001b[0m\u001b[0;34m[\u001b[0m\u001b[0;36m2\u001b[0m\u001b[0;34m]\u001b[0m\u001b[0;34m)\u001b[0m\u001b[0;34m)\u001b[0m\u001b[0;34m\u001b[0m\u001b[0;34m\u001b[0m\u001b[0m\n\u001b[1;32m      8\u001b[0m \u001b[0;34m\u001b[0m\u001b[0m\n",
            "\u001b[0;31mFileNotFoundError\u001b[0m: [Errno 2] No such file or directory: '/content/drive/My Drive/CT_Scan/LungCT-Diagnosis.ipynb/'"
          ]
        }
      ]
    },
    {
      "cell_type": "code",
      "metadata": {
        "id": "evpnCf283FYb",
        "colab": {
          "base_uri": "https://localhost:8080/",
          "height": 234
        },
        "outputId": "197c06a4-125c-476f-a92a-bc8f39e491b4"
      },
      "source": [
        "import cv2\n",
        "import numpy as np\n",
        "#Pixel size of the resized image\n",
        "IMG_PX_SIZE = 150\n",
        "\n",
        "for patient in patients[:1]:\n",
        "    label = labels_df.get(patient, 'Labels')\n",
        "    path = data_dir + patient\n",
        "    slices = [dicom.read_file(path + '/' + s) for s in os.listdir(path)]\n",
        "    slices.sort(key = lambda x: int(x.ImagePositionPatient[2]))\n",
        "    fig = plt.figure()\n",
        "    # displaying the images after resizing\n",
        "    for num,each_slice in enumerate(slices[:12]):\n",
        "        y = fig.add_subplot(3,4,num+1)\n",
        "        new_img = cv2.resize(np.array(each_slice.pixel_array),(IMG_PX_SIZE,IMG_PX_SIZE))\n",
        "        y.imshow(new_img)\n",
        "    plt.show()"
      ],
      "execution_count": null,
      "outputs": [
        {
          "output_type": "error",
          "ename": "FileNotFoundError",
          "evalue": "ignored",
          "traceback": [
            "\u001b[0;31m---------------------------------------------------------------------------\u001b[0m",
            "\u001b[0;31mFileNotFoundError\u001b[0m                         Traceback (most recent call last)",
            "\u001b[0;32m<ipython-input-50-c8fe20a8db52>\u001b[0m in \u001b[0;36m<module>\u001b[0;34m()\u001b[0m\n\u001b[1;32m      7\u001b[0m     \u001b[0mlabel\u001b[0m \u001b[0;34m=\u001b[0m \u001b[0mlabels_df\u001b[0m\u001b[0;34m.\u001b[0m\u001b[0mget\u001b[0m\u001b[0;34m(\u001b[0m\u001b[0mpatient\u001b[0m\u001b[0;34m,\u001b[0m \u001b[0;34m'Labels'\u001b[0m\u001b[0;34m)\u001b[0m\u001b[0;34m\u001b[0m\u001b[0;34m\u001b[0m\u001b[0m\n\u001b[1;32m      8\u001b[0m     \u001b[0mpath\u001b[0m \u001b[0;34m=\u001b[0m \u001b[0mdata_dir\u001b[0m \u001b[0;34m+\u001b[0m \u001b[0mpatient\u001b[0m\u001b[0;34m\u001b[0m\u001b[0;34m\u001b[0m\u001b[0m\n\u001b[0;32m----> 9\u001b[0;31m     \u001b[0mslices\u001b[0m \u001b[0;34m=\u001b[0m \u001b[0;34m[\u001b[0m\u001b[0mdicom\u001b[0m\u001b[0;34m.\u001b[0m\u001b[0mread_file\u001b[0m\u001b[0;34m(\u001b[0m\u001b[0mpath\u001b[0m \u001b[0;34m+\u001b[0m \u001b[0;34m'/'\u001b[0m \u001b[0;34m+\u001b[0m \u001b[0ms\u001b[0m\u001b[0;34m)\u001b[0m \u001b[0;32mfor\u001b[0m \u001b[0ms\u001b[0m \u001b[0;32min\u001b[0m \u001b[0mos\u001b[0m\u001b[0;34m.\u001b[0m\u001b[0mlistdir\u001b[0m\u001b[0;34m(\u001b[0m\u001b[0mpath\u001b[0m\u001b[0;34m)\u001b[0m\u001b[0;34m]\u001b[0m\u001b[0;34m\u001b[0m\u001b[0;34m\u001b[0m\u001b[0m\n\u001b[0m\u001b[1;32m     10\u001b[0m     \u001b[0mslices\u001b[0m\u001b[0;34m.\u001b[0m\u001b[0msort\u001b[0m\u001b[0;34m(\u001b[0m\u001b[0mkey\u001b[0m \u001b[0;34m=\u001b[0m \u001b[0;32mlambda\u001b[0m \u001b[0mx\u001b[0m\u001b[0;34m:\u001b[0m \u001b[0mint\u001b[0m\u001b[0;34m(\u001b[0m\u001b[0mx\u001b[0m\u001b[0;34m.\u001b[0m\u001b[0mImagePositionPatient\u001b[0m\u001b[0;34m[\u001b[0m\u001b[0;36m2\u001b[0m\u001b[0;34m]\u001b[0m\u001b[0;34m)\u001b[0m\u001b[0;34m)\u001b[0m\u001b[0;34m\u001b[0m\u001b[0;34m\u001b[0m\u001b[0m\n\u001b[1;32m     11\u001b[0m     \u001b[0mfig\u001b[0m \u001b[0;34m=\u001b[0m \u001b[0mplt\u001b[0m\u001b[0;34m.\u001b[0m\u001b[0mfigure\u001b[0m\u001b[0;34m(\u001b[0m\u001b[0;34m)\u001b[0m\u001b[0;34m\u001b[0m\u001b[0;34m\u001b[0m\u001b[0m\n",
            "\u001b[0;31mFileNotFoundError\u001b[0m: [Errno 2] No such file or directory: '/content/drive/My Drive/CT_Scan/LungCT-Diagnosis.ipynb/'"
          ]
        }
      ]
    },
    {
      "cell_type": "code",
      "metadata": {
        "id": "Qt-ES2y83YSe",
        "colab": {
          "base_uri": "https://localhost:8080/",
          "height": 234
        },
        "outputId": "49c6b4f0-26de-4042-a83b-afc28f69a1ad"
      },
      "source": [
        "\n",
        "\n",
        "for patient in patients[:1]:\n",
        "    label = labels_df.get(patient, 'Labels')\n",
        "    path = data_dir + patient\n",
        "    slices = [dicom.read_file(path + '/' + s) for s in os.listdir(path)]\n",
        "    slices.sort(key = lambda x: int(x.ImagePositionPatient[2]))\n",
        "    new_slices = []\n",
        "\n",
        "    slices = [cv2.resize(np.array(each_slice.pixel_array),(IMG_PX_SIZE,IMG_PX_SIZE)) for each_slice in slices]\n",
        "    # Making the number of slices uniform for every patient by making chunks\n",
        "    chunk_sizes = math.ceil(len(slices) / HM_SLICES)\n",
        "    for slice_chunk in chunks(slices, chunk_sizes):\n",
        "        slice_chunk = list(map(mean, zip(*slice_chunk)))\n",
        "        new_slices.append(slice_chunk)\n",
        "\n",
        "    if len(new_slices) == HM_SLICES-1:\n",
        "        new_slices.append(new_slices[-1])\n",
        "\n",
        "    if len(new_slices) == HM_SLICES-2:\n",
        "        new_slices.append(new_slices[-1])\n",
        "        new_slices.append(new_slices[-1])\n",
        "\n",
        "    if len(new_slices) == HM_SLICES+2:\n",
        "        new_val = list(map(mean, zip(*[new_slices[HM_SLICES-1],new_slices[HM_SLICES],])))\n",
        "        del new_slices[HM_SLICES]\n",
        "        new_slices[HM_SLICES-1] = new_val\n",
        "        \n",
        "    if len(new_slices) == HM_SLICES+1:\n",
        "        new_val = list(map(mean, zip(*[new_slices[HM_SLICES-1],new_slices[HM_SLICES],])))\n",
        "        del new_slices[HM_SLICES]\n",
        "        new_slices[HM_SLICES-1] = new_val\n",
        "\n",
        "    if len(new_slices) == HM_SLICES-3:\n",
        "        new_slices.append(new_slices[-1])\n",
        "        new_slices.append(new_slices[-1])\n",
        "        new_slices.append(new_slices[-1])\n",
        "\n",
        "    if len(new_slices) == HM_SLICES-4:\n",
        "        new_slices.append(new_slices[-1])\n",
        "        new_slices.append(new_slices[-1])\n",
        "        new_slices.append(new_slices[-1])\n",
        "        new_slices.append(new_slices[-1])   \n",
        "      \n",
        "    #visualizing the slices\n",
        "    fig = plt.figure()\n",
        "    for num,each_slice in enumerate(new_slices):\n",
        "        y = fig.add_subplot(4,5,num+1)\n",
        "        y.imshow(each_slice, cmap='gray')\n",
        "    plt.show()"
      ],
      "execution_count": null,
      "outputs": [
        {
          "output_type": "error",
          "ename": "FileNotFoundError",
          "evalue": "ignored",
          "traceback": [
            "\u001b[0;31m---------------------------------------------------------------------------\u001b[0m",
            "\u001b[0;31mFileNotFoundError\u001b[0m                         Traceback (most recent call last)",
            "\u001b[0;32m<ipython-input-53-9a690179c7d3>\u001b[0m in \u001b[0;36m<module>\u001b[0;34m()\u001b[0m\n\u001b[1;32m      4\u001b[0m     \u001b[0mlabel\u001b[0m \u001b[0;34m=\u001b[0m \u001b[0mlabels_df\u001b[0m\u001b[0;34m.\u001b[0m\u001b[0mget\u001b[0m\u001b[0;34m(\u001b[0m\u001b[0mpatient\u001b[0m\u001b[0;34m,\u001b[0m \u001b[0;34m'Labels'\u001b[0m\u001b[0;34m)\u001b[0m\u001b[0;34m\u001b[0m\u001b[0;34m\u001b[0m\u001b[0m\n\u001b[1;32m      5\u001b[0m     \u001b[0mpath\u001b[0m \u001b[0;34m=\u001b[0m \u001b[0mdata_dir\u001b[0m \u001b[0;34m+\u001b[0m \u001b[0mpatient\u001b[0m\u001b[0;34m\u001b[0m\u001b[0;34m\u001b[0m\u001b[0m\n\u001b[0;32m----> 6\u001b[0;31m     \u001b[0mslices\u001b[0m \u001b[0;34m=\u001b[0m \u001b[0;34m[\u001b[0m\u001b[0mdicom\u001b[0m\u001b[0;34m.\u001b[0m\u001b[0mread_file\u001b[0m\u001b[0;34m(\u001b[0m\u001b[0mpath\u001b[0m \u001b[0;34m+\u001b[0m \u001b[0;34m'/'\u001b[0m \u001b[0;34m+\u001b[0m \u001b[0ms\u001b[0m\u001b[0;34m)\u001b[0m \u001b[0;32mfor\u001b[0m \u001b[0ms\u001b[0m \u001b[0;32min\u001b[0m \u001b[0mos\u001b[0m\u001b[0;34m.\u001b[0m\u001b[0mlistdir\u001b[0m\u001b[0;34m(\u001b[0m\u001b[0mpath\u001b[0m\u001b[0;34m)\u001b[0m\u001b[0;34m]\u001b[0m\u001b[0;34m\u001b[0m\u001b[0;34m\u001b[0m\u001b[0m\n\u001b[0m\u001b[1;32m      7\u001b[0m     \u001b[0mslices\u001b[0m\u001b[0;34m.\u001b[0m\u001b[0msort\u001b[0m\u001b[0;34m(\u001b[0m\u001b[0mkey\u001b[0m \u001b[0;34m=\u001b[0m \u001b[0;32mlambda\u001b[0m \u001b[0mx\u001b[0m\u001b[0;34m:\u001b[0m \u001b[0mint\u001b[0m\u001b[0;34m(\u001b[0m\u001b[0mx\u001b[0m\u001b[0;34m.\u001b[0m\u001b[0mImagePositionPatient\u001b[0m\u001b[0;34m[\u001b[0m\u001b[0;36m2\u001b[0m\u001b[0;34m]\u001b[0m\u001b[0;34m)\u001b[0m\u001b[0;34m)\u001b[0m\u001b[0;34m\u001b[0m\u001b[0;34m\u001b[0m\u001b[0m\n\u001b[1;32m      8\u001b[0m     \u001b[0mnew_slices\u001b[0m \u001b[0;34m=\u001b[0m \u001b[0;34m[\u001b[0m\u001b[0;34m]\u001b[0m\u001b[0;34m\u001b[0m\u001b[0;34m\u001b[0m\u001b[0m\n",
            "\u001b[0;31mFileNotFoundError\u001b[0m: [Errno 2] No such file or directory: '/content/drive/My Drive/CT_Scan/LungCT-Diagnosis.ipynb/'"
          ]
        }
      ]
    },
    {
      "cell_type": "code",
      "metadata": {
        "id": "Y82M7zI-73zF",
        "colab": {
          "base_uri": "https://localhost:8080/"
        },
        "outputId": "76d1c6b0-76a5-45f2-d68f-ecc7a60324ac"
      },
      "source": [
        "# The entire image pre-processing functions\n",
        "import numpy as np\n",
        "import pandas as pd\n",
        "import pydicom as dicom\n",
        "import os\n",
        "import matplotlib.pyplot as plt\n",
        "import cv2\n",
        "import math\n",
        "\n",
        "IMG_SIZE_PX = 150\n",
        "SLICE_COUNT = 20\n",
        "\n",
        "def chunks(l, n):\n",
        "    for i in range(0, len(l), n):\n",
        "        yield l[i:i + n]\n",
        "\n",
        "\n",
        "def mean(a):\n",
        "    return sum(a) / len(a)\n",
        "\n",
        "\n",
        "def process_data(patient,labels_df,img_px_size=150, hm_slices=20, visualize=False):\n",
        "    \n",
        "    label = labels_df.at[patient, 'Labels']\n",
        "    path = data_dir + patient\n",
        "    slices = [dicom.read_file(path + '/' + s) for s in os.listdir(path)]\n",
        "    slices.sort(key = lambda x: int(x.ImagePositionPatient[2]))\n",
        "\n",
        "    new_slices = []\n",
        "    slices = [cv2.resize(np.array(each_slice.pixel_array),(img_px_size,img_px_size)) for each_slice in slices]\n",
        "    \n",
        "    chunk_sizes = math.ceil(len(slices) / hm_slices)\n",
        "    for slice_chunk in chunks(slices, chunk_sizes):\n",
        "        slice_chunk = list(map(mean, zip(*slice_chunk)))\n",
        "        new_slices.append(slice_chunk)\n",
        "\n",
        "    if len(new_slices) == hm_slices-1:\n",
        "        new_slices.append(new_slices[-1])\n",
        "\n",
        "    if len(new_slices) == hm_slices-2:\n",
        "        new_slices.append(new_slices[-1])\n",
        "        new_slices.append(new_slices[-1])\n",
        "\n",
        "    if len(new_slices) == hm_slices+2:\n",
        "        new_val = list(map(mean, zip(*[new_slices[hm_slices-1],new_slices[hm_slices],])))\n",
        "        del new_slices[hm_slices]\n",
        "        new_slices[hm_slices-1] = new_val\n",
        "        \n",
        "    if len(new_slices) == hm_slices+1:\n",
        "        new_val = list(map(mean, zip(*[new_slices[hm_slices-1],new_slices[hm_slices],])))\n",
        "        del new_slices[hm_slices]\n",
        "        new_slices[hm_slices-1] = new_val\n",
        "\n",
        "    if len(new_slices) == hm_slices-3:\n",
        "        new_slices.append(new_slices[-1])\n",
        "        new_slices.append(new_slices[-1])\n",
        "        new_slices.append(new_slices[-1])\n",
        "\n",
        "    if len(new_slices) == hm_slices-4:\n",
        "        new_slices.append(new_slices[-1])\n",
        "        new_slices.append(new_slices[-1])\n",
        "        new_slices.append(new_slices[-1])\n",
        "        new_slices.append(new_slices[-1]) \n",
        "\n",
        "    if visualize:\n",
        "        fig = plt.figure()\n",
        "        for num,each_slice in enumerate(new_slices):\n",
        "            y = fig.add_subplot(4,5,num+1)\n",
        "            y.imshow(each_slice, cmap='gray')\n",
        "        plt.show()\n",
        "\n",
        "    if label == 1: label=np.array([0,1])\n",
        "    elif label == 0: label=np.array([1,0])\n",
        "    print(len(slices), len(new_slices))\n",
        "        \n",
        "    return np.array(new_slices),label\n",
        "\n",
        "data_dir = '/content/drive/My Drive/CT_Scan/LungCT-Diagnosis/'\n",
        "patients = os.path.join(data_dir)\n",
        "labels = pd.read_csv('/content/drive/My Drive/CT_Scan/LungCT-Labels - Sheet1.csv', index_col=0)\n",
        "\n",
        "image_full_data = [] #list of the concatenated 3D images and their corresponding labels \n",
        "\n",
        "for num,patient in enumerate(patients):\n",
        "    if num % 100 == 0:\n",
        "        print(num)\n",
        "    try:\n",
        "        img_data,label = process_data(patient,labels,img_px_size=IMG_SIZE_PX, hm_slices=SLICE_COUNT)\n",
        "        #print(img_data.shape,label)\n",
        "        image_full_data.append([img_data, label])\n",
        "        # labels_data.append(label)\n",
        "    except KeyError as e:\n",
        "        print('This is unlabeled data!')\n",
        "\n",
        "np.save('imagedata.npy'.format(IMG_SIZE_PX,IMG_SIZE_PX,SLICE_COUNT), image_full_data)\n"
      ],
      "execution_count": null,
      "outputs": [
        {
          "output_type": "stream",
          "name": "stdout",
          "text": [
            "0\n",
            "This is unlabeled data!\n",
            "This is unlabeled data!\n",
            "This is unlabeled data!\n",
            "This is unlabeled data!\n",
            "This is unlabeled data!\n",
            "This is unlabeled data!\n",
            "This is unlabeled data!\n",
            "This is unlabeled data!\n",
            "This is unlabeled data!\n",
            "This is unlabeled data!\n",
            "This is unlabeled data!\n",
            "This is unlabeled data!\n",
            "This is unlabeled data!\n",
            "This is unlabeled data!\n",
            "This is unlabeled data!\n",
            "This is unlabeled data!\n",
            "This is unlabeled data!\n",
            "This is unlabeled data!\n",
            "This is unlabeled data!\n",
            "This is unlabeled data!\n",
            "This is unlabeled data!\n",
            "This is unlabeled data!\n",
            "This is unlabeled data!\n",
            "This is unlabeled data!\n",
            "This is unlabeled data!\n",
            "This is unlabeled data!\n",
            "This is unlabeled data!\n",
            "This is unlabeled data!\n",
            "This is unlabeled data!\n",
            "This is unlabeled data!\n",
            "This is unlabeled data!\n",
            "This is unlabeled data!\n",
            "This is unlabeled data!\n",
            "This is unlabeled data!\n",
            "This is unlabeled data!\n",
            "This is unlabeled data!\n",
            "This is unlabeled data!\n",
            "This is unlabeled data!\n",
            "This is unlabeled data!\n",
            "This is unlabeled data!\n",
            "This is unlabeled data!\n",
            "This is unlabeled data!\n",
            "This is unlabeled data!\n",
            "This is unlabeled data!\n",
            "This is unlabeled data!\n",
            "This is unlabeled data!\n",
            "This is unlabeled data!\n",
            "This is unlabeled data!\n",
            "This is unlabeled data!\n"
          ]
        }
      ]
    },
    {
      "cell_type": "code",
      "metadata": {
        "id": "wT8BFb_CFw6o",
        "colab": {
          "base_uri": "https://localhost:8080/",
          "height": 269
        },
        "outputId": "42c3a569-fb67-42ec-dd45-910b6ee86f50"
      },
      "source": [
        "import numpy as np\n",
        "import matplotlib.pyplot as plt\n",
        "import random\n",
        "\n",
        "image_full_data = np.load('imagedata.npy', allow_pickle=True)\n",
        "#shuffling the image full data to remove the clustering of similar type of labels\n",
        "random.shuffle(image_full_data)\n",
        "# Preparing the train and validation sets\n",
        "train_data = image_full_data[:50]\n",
        "validation_data = image_full_data[50:]\n",
        "\n",
        "train_Y=[]\n",
        "valid_Y=[]\n",
        "for data in train_data:\n",
        "   Y = data[1]\n",
        "   train_Y.append(Y)\n",
        "for data in validation_data:\n",
        "  Y = data[1]\n",
        "  # print(Y)\n",
        "  valid_Y.append(Y)\n",
        "\n",
        "train_X = [data[0] for data in train_data]\n",
        "train_X = np.concatenate([arr[np.newaxis] for arr in train_X])  #creating a 4D array from 3 dimensional image arrays \n",
        "valid_X = [data[0] for data in validation_data] \n",
        "valid_X = np.concatenate([arr[np.newaxis] for arr in valid_X]) \n",
        "\n",
        "train_X = np.reshape(train_X, (50,20,150,150,1))\n",
        "#train_X = np.expand_dims(train_X, axis = 0)\n",
        "train_Y = np.array(train_Y)\n",
        "valid_X = np.reshape(valid_X, (10,20,150,150,1))\n",
        "valid_Y = np.array(valid_Y)\n",
        "\n",
        "print(train_Y.shape)\n",
        "print(valid_Y.shape)\n",
        "print(train_X.shape)\n",
        "print(valid_X.shape)"
      ],
      "execution_count": null,
      "outputs": [
        {
          "output_type": "error",
          "ename": "ValueError",
          "evalue": "ignored",
          "traceback": [
            "\u001b[0;31m---------------------------------------------------------------------------\u001b[0m",
            "\u001b[0;31mValueError\u001b[0m                                Traceback (most recent call last)",
            "\u001b[0;32m<ipython-input-57-1759506d62d9>\u001b[0m in \u001b[0;36m<module>\u001b[0;34m()\u001b[0m\n\u001b[1;32m     21\u001b[0m \u001b[0;34m\u001b[0m\u001b[0m\n\u001b[1;32m     22\u001b[0m \u001b[0mtrain_X\u001b[0m \u001b[0;34m=\u001b[0m \u001b[0;34m[\u001b[0m\u001b[0mdata\u001b[0m\u001b[0;34m[\u001b[0m\u001b[0;36m0\u001b[0m\u001b[0;34m]\u001b[0m \u001b[0;32mfor\u001b[0m \u001b[0mdata\u001b[0m \u001b[0;32min\u001b[0m \u001b[0mtrain_data\u001b[0m\u001b[0;34m]\u001b[0m\u001b[0;34m\u001b[0m\u001b[0;34m\u001b[0m\u001b[0m\n\u001b[0;32m---> 23\u001b[0;31m \u001b[0mtrain_X\u001b[0m \u001b[0;34m=\u001b[0m \u001b[0mnp\u001b[0m\u001b[0;34m.\u001b[0m\u001b[0mconcatenate\u001b[0m\u001b[0;34m(\u001b[0m\u001b[0;34m[\u001b[0m\u001b[0marr\u001b[0m\u001b[0;34m[\u001b[0m\u001b[0mnp\u001b[0m\u001b[0;34m.\u001b[0m\u001b[0mnewaxis\u001b[0m\u001b[0;34m]\u001b[0m \u001b[0;32mfor\u001b[0m \u001b[0marr\u001b[0m \u001b[0;32min\u001b[0m \u001b[0mtrain_X\u001b[0m\u001b[0;34m]\u001b[0m\u001b[0;34m)\u001b[0m  \u001b[0;31m#creating a 4D array from 3 dimensional image arrays\u001b[0m\u001b[0;34m\u001b[0m\u001b[0;34m\u001b[0m\u001b[0m\n\u001b[0m\u001b[1;32m     24\u001b[0m \u001b[0mvalid_X\u001b[0m \u001b[0;34m=\u001b[0m \u001b[0;34m[\u001b[0m\u001b[0mdata\u001b[0m\u001b[0;34m[\u001b[0m\u001b[0;36m0\u001b[0m\u001b[0;34m]\u001b[0m \u001b[0;32mfor\u001b[0m \u001b[0mdata\u001b[0m \u001b[0;32min\u001b[0m \u001b[0mvalidation_data\u001b[0m\u001b[0;34m]\u001b[0m\u001b[0;34m\u001b[0m\u001b[0;34m\u001b[0m\u001b[0m\n\u001b[1;32m     25\u001b[0m \u001b[0mvalid_X\u001b[0m \u001b[0;34m=\u001b[0m \u001b[0mnp\u001b[0m\u001b[0;34m.\u001b[0m\u001b[0mconcatenate\u001b[0m\u001b[0;34m(\u001b[0m\u001b[0;34m[\u001b[0m\u001b[0marr\u001b[0m\u001b[0;34m[\u001b[0m\u001b[0mnp\u001b[0m\u001b[0;34m.\u001b[0m\u001b[0mnewaxis\u001b[0m\u001b[0;34m]\u001b[0m \u001b[0;32mfor\u001b[0m \u001b[0marr\u001b[0m \u001b[0;32min\u001b[0m \u001b[0mvalid_X\u001b[0m\u001b[0;34m]\u001b[0m\u001b[0;34m)\u001b[0m\u001b[0;34m\u001b[0m\u001b[0;34m\u001b[0m\u001b[0m\n",
            "\u001b[0;32m<__array_function__ internals>\u001b[0m in \u001b[0;36mconcatenate\u001b[0;34m(*args, **kwargs)\u001b[0m\n",
            "\u001b[0;31mValueError\u001b[0m: need at least one array to concatenate"
          ]
        }
      ]
    },
    {
      "cell_type": "code",
      "metadata": {
        "id": "cJUdOnH_XRby"
      },
      "source": [
        "#importing the layers from keras and all the necessary libraries\n",
        "import keras\n",
        "import tensorflow as tf\n",
        "from keras.models import Sequential\n",
        "from keras.layers import Dense, Dropout, Flatten, Lambda\n",
        "from keras.layers import Conv3D, MaxPooling3D, BatchNormalization\n",
        "from keras.optimizers import Adam\n",
        "import matplotlib.pyplot as plt\n",
        "import matplotlib.image as mpimg\n",
        "import numpy as np\n",
        "import pandas as pd"
      ],
      "execution_count": null,
      "outputs": []
    },
    {
      "cell_type": "code",
      "metadata": {
        "id": "DEgQltHzXe2F",
        "colab": {
          "base_uri": "https://localhost:8080/",
          "height": 128
        },
        "outputId": "e2bb5f42-1f0d-4d03-f221-7efed093041a"
      },
      "source": [
        "#3d sequential cnn architecture \n",
        "cnn4 = Sequential([\n",
        "    Conv3D(32, kernel_size=(3, 3, 3), activation='relu', padding='same', input_shape=(20,150,150,1)),\n",
        "    Conv3D(32, kernel_size=(3, 3, 3), activation='relu', padding='same'),\n",
        "    MaxPooling3D(pool_size=(2, 2, 2), padding = 'same', data_format = 'channels_last'),\n",
        "    Dropout(0.2)\n",
        "    \n",
        "    \n",
        "    Conv3D(64, kernel_size=(3, 3, 3), activation='relu', padding='same'),\n",
        "    Conv3D(64, kernel_size=(3, 3, 3), activation='relu', padding='same'),    \n",
        "    MaxPooling3D(pool_size=(2, 2, 2), padding = 'same', data_format = 'channels_last'),\n",
        "    Dropout(0.2)\n",
        "    \n",
        "    Conv3D(128, kernel_size=(3, 3, 3), activation='relu', padding='same'),\n",
        "    Conv3D(128, kernel_size=(3, 3, 3), activation='relu', padding='same'),    \n",
        "    MaxPooling3D(pool_size=(2, 2, 2), padding = 'same', data_format = 'channels_last'),\n",
        "    Dropout(0.2)\n",
        "    \n",
        "    Conv3D(256, kernel_size=(3, 3, 3), activation='relu', padding='same'),\n",
        "    Conv3D(256, kernel_size=(3, 3, 3), activation='relu', padding='same'),\n",
        "    Conv3D(256, kernel_size=(3, 3, 3), activation='relu', padding='same'),\n",
        "    MaxPooling3D(pool_size=(2, 2, 2), padding = 'same', data_format = 'channels_last'),\n",
        "\n",
        "    Conv3D(512, kernel_size=(3, 3, 3), activation='relu', padding='same'),\n",
        "    Conv3D(512, kernel_size=(3, 3, 3), activation='relu', padding='same'),\n",
        "    Conv3D(512, kernel_size=(3, 3, 3), activation='relu', padding='same'),\n",
        "    MaxPooling3D(pool_size=(2, 2, 2), padding = 'same', data_format = 'channels_last'),\n",
        "\n",
        "    Flatten(),\n",
        "\n",
        "    Dense(1024, activation='sigmoid'),\n",
        "    Dropout(0.2),\n",
        "    Dense(1024, activation='sigmoid'),\n",
        "    Dropout(0.2),\n",
        "    Dense(2, activation='softmax')\n",
        "])\n",
        "cnn4.summary()"
      ],
      "execution_count": null,
      "outputs": [
        {
          "output_type": "error",
          "ename": "SyntaxError",
          "evalue": "ignored",
          "traceback": [
            "\u001b[0;36m  File \u001b[0;32m\"<ipython-input-7-aea7e5b0a9ac>\"\u001b[0;36m, line \u001b[0;32m9\u001b[0m\n\u001b[0;31m    Conv3D(64, kernel_size=(3, 3, 3), activation='relu', padding='same'),\u001b[0m\n\u001b[0m         ^\u001b[0m\n\u001b[0;31mSyntaxError\u001b[0m\u001b[0;31m:\u001b[0m invalid syntax\n"
          ]
        }
      ]
    },
    {
      "cell_type": "code",
      "metadata": {
        "id": "uzkpIWx4Ym0a"
      },
      "source": [
        "#compiling using stochastic gradient descent\n",
        "from keras.optimizers import SGD\n",
        "sgd = SGD(lr=1e-6)\n",
        "cnn4.compile(loss = 'binary_crossentropy', optimizer =sgd, metrics = [\"accuracy\"])"
      ],
      "execution_count": null,
      "outputs": []
    },
    {
      "cell_type": "code",
      "metadata": {
        "id": "D9G_mUTfYqjg",
        "colab": {
          "base_uri": "https://localhost:8080/",
          "height": 386
        },
        "outputId": "7ad2cdc0-8fe6-4d50-ab8b-a60a6755c309"
      },
      "source": [
        "#fitting the model\n",
        "cnn4.fit(train_X, train_Y, batch_size=5, epochs=10, verbose=1, validation_data =(valid_X,valid_Y))"
      ],
      "execution_count": null,
      "outputs": [
        {
          "output_type": "stream",
          "text": [
            "Train on 50 samples, validate on 10 samples\n",
            "Epoch 1/10\n",
            "50/50 [==============================] - 438s 9s/step - loss: 0.7193 - accuracy: 0.5400 - val_loss: 0.7033 - val_accuracy: 0.3000\n",
            "Epoch 2/10\n",
            "50/50 [==============================] - 438s 9s/step - loss: 0.7674 - accuracy: 0.4600 - val_loss: 0.7032 - val_accuracy: 0.3000\n",
            "Epoch 3/10\n",
            "50/50 [==============================] - 429s 9s/step - loss: 0.6876 - accuracy: 0.5800 - val_loss: 0.7029 - val_accuracy: 0.3000\n",
            "Epoch 4/10\n",
            "50/50 [==============================] - 429s 9s/step - loss: 0.6987 - accuracy: 0.4400 - val_loss: 0.7027 - val_accuracy: 0.3000\n",
            "Epoch 5/10\n",
            "50/50 [==============================] - 433s 9s/step - loss: 0.7390 - accuracy: 0.4600 - val_loss: 0.7025 - val_accuracy: 0.3000\n",
            "Epoch 6/10\n",
            "50/50 [==============================] - 433s 9s/step - loss: 0.7550 - accuracy: 0.3800 - val_loss: 0.7023 - val_accuracy: 0.3000\n",
            "Epoch 7/10\n",
            "50/50 [==============================] - 430s 9s/step - loss: 0.7257 - accuracy: 0.4600 - val_loss: 0.7021 - val_accuracy: 0.2000\n",
            "Epoch 8/10\n",
            "50/50 [==============================] - 452s 9s/step - loss: 0.7172 - accuracy: 0.4800 - val_loss: 0.7018 - val_accuracy: 0.2000\n",
            "Epoch 9/10\n",
            "50/50 [==============================] - 454s 9s/step - loss: 0.6899 - accuracy: 0.6000 - val_loss: 0.7016 - val_accuracy: 0.2000\n",
            "Epoch 10/10\n",
            "50/50 [==============================] - 461s 9s/step - loss: 0.7286 - accuracy: 0.5000 - val_loss: 0.7014 - val_accuracy: 0.2000\n"
          ],
          "name": "stdout"
        },
        {
          "output_type": "execute_result",
          "data": {
            "text/plain": [
              "<keras.callbacks.callbacks.History at 0x7fc228579da0>"
            ]
          },
          "metadata": {
            "tags": []
          },
          "execution_count": 9
        }
      ]
    },
    {
      "cell_type": "code",
      "metadata": {
        "id": "QLxitnIHc_0d"
      },
      "source": [
        "cnn4.save(\"our_model\")"
      ],
      "execution_count": null,
      "outputs": []
    },
    {
      "cell_type": "code",
      "metadata": {
        "id": "9FMkozEbITNH",
        "colab": {
          "base_uri": "https://localhost:8080/",
          "height": 17
        },
        "outputId": "304ad817-04a2-4850-ad65-18ea07176ad4"
      },
      "source": [
        "#improving accuracy with another architecture - HybridNET\n",
        "import keras\n",
        "from keras.layers import Conv2D, Conv3D, Flatten, Dense, Reshape, BatchNormalization\n",
        "from keras.layers import Dropout, Input\n",
        "from keras.models import Model\n",
        "from keras.optimizers import Adam\n",
        "from keras.callbacks import ModelCheckpoint\n",
        "from keras.utils import np_utils\n",
        "\n",
        "from sklearn.decomposition import PCA\n",
        "from sklearn.model_selection import train_test_split\n",
        "from sklearn.metrics import confusion_matrix, accuracy_score, classification_report, cohen_kappa_score\n",
        "\n",
        "from operator import truediv\n",
        "\n",
        "from plotly.offline import init_notebook_mode\n",
        "\n",
        "import numpy as np\n",
        "import matplotlib.pyplot as plt\n",
        "import scipy.io as sio\n",
        "import os\n",
        "\n",
        "\n",
        "init_notebook_mode(connected=True)\n",
        "%matplotlib inline"
      ],
      "execution_count": null,
      "outputs": [
        {
          "output_type": "display_data",
          "data": {
            "text/html": [
              "        <script type=\"text/javascript\">\n",
              "        window.PlotlyConfig = {MathJaxConfig: 'local'};\n",
              "        if (window.MathJax) {MathJax.Hub.Config({SVG: {font: \"STIX-Web\"}});}\n",
              "        if (typeof require !== 'undefined') {\n",
              "        require.undef(\"plotly\");\n",
              "        requirejs.config({\n",
              "            paths: {\n",
              "                'plotly': ['https://cdn.plot.ly/plotly-latest.min']\n",
              "            }\n",
              "        });\n",
              "        require(['plotly'], function(Plotly) {\n",
              "            window._Plotly = Plotly;\n",
              "        });\n",
              "        }\n",
              "        </script>\n",
              "        "
            ]
          },
          "metadata": {
            "tags": []
          }
        }
      ]
    },
    {
      "cell_type": "code",
      "metadata": {
        "id": "YFqGIbNC9A9Q"
      },
      "source": [
        "input_layer = Input((20, 150, 150, 1))\n",
        "\n",
        "## convolutional layers\n",
        "conv_layer1 = Conv3D(filters=8, kernel_size=(3, 3, 7), activation='relu')(input_layer)\n",
        "conv_layer2 = Conv3D(filters=16, kernel_size=(3, 3, 5), activation='relu')(conv_layer1)\n",
        "conv_layer3 = Conv3D(filters=32, kernel_size=(3, 3, 3), activation='relu')(conv_layer2)\n",
        "#print(conv_layer3.shape)\n",
        "conv3d_shape = conv_layer3.shape\n",
        "conv_layer3 = Reshape((conv3d_shape[1], conv3d_shape[2], conv3d_shape[3]*conv3d_shape[4]))(conv_layer3) #reshaping the 3D layer to form a Conv2D layer\n",
        "conv_layer4 = Conv2D(filters=64, kernel_size=(3,3), activation='relu')(conv_layer3)\n",
        "\n",
        "flatten_layer = Flatten()(conv_layer4)\n",
        "\n",
        "## fully connected layers\n",
        "dense_layer1 = Dense(units=256, activation='relu')(flatten_layer)\n",
        "dense_layer1 = Dropout(0.4)(dense_layer1)\n",
        "dense_layer2 = Dense(units=128, activation='relu')(dense_layer1)\n",
        "dense_layer2 = Dropout(0.4)(dense_layer2)\n",
        "output_layer = Dense(units=2, activation='softmax')(dense_layer2)"
      ],
      "execution_count": null,
      "outputs": []
    },
    {
      "cell_type": "code",
      "metadata": {
        "id": "0gG0dkulIv33"
      },
      "source": [
        "model = Model(inputs=input_layer, outputs=output_layer)"
      ],
      "execution_count": null,
      "outputs": []
    },
    {
      "cell_type": "code",
      "metadata": {
        "id": "3OAzipHrI48V",
        "colab": {
          "base_uri": "https://localhost:8080/",
          "height": 554
        },
        "outputId": "fb91c7ad-1132-4fcc-ba52-89f13e96b570"
      },
      "source": [
        "model.summary()"
      ],
      "execution_count": null,
      "outputs": [
        {
          "output_type": "stream",
          "text": [
            "Model: \"functional_1\"\n",
            "_________________________________________________________________\n",
            "Layer (type)                 Output Shape              Param #   \n",
            "=================================================================\n",
            "input_1 (InputLayer)         [(None, 20, 150, 150, 1)] 0         \n",
            "_________________________________________________________________\n",
            "conv3d (Conv3D)              (None, 18, 148, 144, 8)   512       \n",
            "_________________________________________________________________\n",
            "conv3d_1 (Conv3D)            (None, 16, 146, 140, 16)  5776      \n",
            "_________________________________________________________________\n",
            "conv3d_2 (Conv3D)            (None, 14, 144, 138, 32)  13856     \n",
            "_________________________________________________________________\n",
            "reshape (Reshape)            (None, 14, 144, 4416)     0         \n",
            "_________________________________________________________________\n",
            "conv2d (Conv2D)              (None, 12, 142, 64)       2543680   \n",
            "_________________________________________________________________\n",
            "flatten (Flatten)            (None, 109056)            0         \n",
            "_________________________________________________________________\n",
            "dense (Dense)                (None, 256)               27918592  \n",
            "_________________________________________________________________\n",
            "dropout (Dropout)            (None, 256)               0         \n",
            "_________________________________________________________________\n",
            "dense_1 (Dense)              (None, 128)               32896     \n",
            "_________________________________________________________________\n",
            "dropout_1 (Dropout)          (None, 128)               0         \n",
            "_________________________________________________________________\n",
            "dense_2 (Dense)              (None, 2)                 258       \n",
            "=================================================================\n",
            "Total params: 30,515,570\n",
            "Trainable params: 30,515,570\n",
            "Non-trainable params: 0\n",
            "_________________________________________________________________\n"
          ],
          "name": "stdout"
        }
      ]
    },
    {
      "cell_type": "code",
      "metadata": {
        "id": "0uBroNohI8Mu"
      },
      "source": [
        "#compiling the model using adam optimizer\n",
        "adam = Adam(lr=0.001, decay=1e-06)\n",
        "model.compile(loss='categorical_crossentropy', optimizer=adam, metrics=['accuracy'])"
      ],
      "execution_count": null,
      "outputs": []
    },
    {
      "cell_type": "code",
      "metadata": {
        "id": "G8Nl1KRWJAU0",
        "colab": {
          "base_uri": "https://localhost:8080/",
          "height": 1000
        },
        "outputId": "85d6eedc-9016-48ca-bdf7-92c5ea6d338d"
      },
      "source": [
        "#fitting the model\n",
        "history = model.fit(train_X, train_Y, batch_size=10, epochs=50, verbose=1, validation_data =(valid_X,valid_Y))"
      ],
      "execution_count": null,
      "outputs": [
        {
          "output_type": "stream",
          "text": [
            "Epoch 1/50\n",
            "2/5 [===========>..................] - ETA: 1s - loss: 8195.7881 - accuracy: 0.7000WARNING:tensorflow:Callbacks method `on_train_batch_end` is slow compared to the batch time (batch time: 0.0188s vs `on_train_batch_end` time: 1.1827s). Check your callbacks.\n",
            "5/5 [==============================] - 5s 1s/step - loss: 3662.1455 - accuracy: 0.5600 - val_loss: 0.6923 - val_accuracy: 0.4000\n",
            "Epoch 2/50\n",
            "5/5 [==============================] - 6s 1s/step - loss: 0.5980 - accuracy: 0.7000 - val_loss: 0.9385 - val_accuracy: 0.4000\n",
            "Epoch 3/50\n",
            "5/5 [==============================] - 6s 1s/step - loss: 0.4679 - accuracy: 0.7200 - val_loss: 0.7093 - val_accuracy: 0.4000\n",
            "Epoch 4/50\n",
            "5/5 [==============================] - 6s 1s/step - loss: 0.2974 - accuracy: 0.8000 - val_loss: 0.7645 - val_accuracy: 0.7000\n",
            "Epoch 5/50\n",
            "5/5 [==============================] - 6s 1s/step - loss: 0.1511 - accuracy: 0.9400 - val_loss: 0.8105 - val_accuracy: 0.7000\n",
            "Epoch 6/50\n",
            "5/5 [==============================] - 6s 1s/step - loss: 0.1196 - accuracy: 0.9400 - val_loss: 1.0130 - val_accuracy: 0.8000\n",
            "Epoch 7/50\n",
            "5/5 [==============================] - 6s 1s/step - loss: 0.0472 - accuracy: 1.0000 - val_loss: 1.0787 - val_accuracy: 0.8000\n",
            "Epoch 8/50\n",
            "5/5 [==============================] - 6s 1s/step - loss: 2.5593 - accuracy: 0.9800 - val_loss: 1.0770 - val_accuracy: 0.9000\n",
            "Epoch 9/50\n",
            "5/5 [==============================] - 6s 1s/step - loss: 0.1103 - accuracy: 0.9600 - val_loss: 1.0835 - val_accuracy: 0.8000\n",
            "Epoch 10/50\n",
            "5/5 [==============================] - 6s 1s/step - loss: 0.0277 - accuracy: 1.0000 - val_loss: 0.8696 - val_accuracy: 0.8000\n",
            "Epoch 11/50\n",
            "5/5 [==============================] - 6s 1s/step - loss: 0.0222 - accuracy: 1.0000 - val_loss: 1.1852 - val_accuracy: 0.8000\n",
            "Epoch 12/50\n",
            "5/5 [==============================] - 6s 1s/step - loss: 0.0135 - accuracy: 1.0000 - val_loss: 1.5481 - val_accuracy: 0.9000\n",
            "Epoch 13/50\n",
            "5/5 [==============================] - 6s 1s/step - loss: 0.0078 - accuracy: 1.0000 - val_loss: 1.2836 - val_accuracy: 0.8000\n",
            "Epoch 14/50\n",
            "5/5 [==============================] - 6s 1s/step - loss: 0.0017 - accuracy: 1.0000 - val_loss: 0.9264 - val_accuracy: 0.8000\n",
            "Epoch 15/50\n",
            "5/5 [==============================] - 6s 1s/step - loss: 0.0026 - accuracy: 1.0000 - val_loss: 0.8096 - val_accuracy: 0.8000\n",
            "Epoch 16/50\n",
            "5/5 [==============================] - 6s 1s/step - loss: 0.0026 - accuracy: 1.0000 - val_loss: 0.8549 - val_accuracy: 0.8000\n",
            "Epoch 17/50\n",
            "5/5 [==============================] - 6s 1s/step - loss: 4.2459e-05 - accuracy: 1.0000 - val_loss: 0.9281 - val_accuracy: 0.8000\n",
            "Epoch 18/50\n",
            "5/5 [==============================] - 6s 1s/step - loss: 9.5977e-05 - accuracy: 1.0000 - val_loss: 0.9890 - val_accuracy: 0.8000\n",
            "Epoch 19/50\n",
            "5/5 [==============================] - 6s 1s/step - loss: 7.5293e-05 - accuracy: 1.0000 - val_loss: 1.0877 - val_accuracy: 0.7000\n",
            "Epoch 20/50\n",
            "5/5 [==============================] - 6s 1s/step - loss: 7.2044e-05 - accuracy: 1.0000 - val_loss: 1.3198 - val_accuracy: 0.7000\n",
            "Epoch 21/50\n",
            "5/5 [==============================] - 6s 1s/step - loss: 2.1123e-06 - accuracy: 1.0000 - val_loss: 1.5881 - val_accuracy: 0.7000\n",
            "Epoch 22/50\n",
            "5/5 [==============================] - 6s 1s/step - loss: 5.0645e-05 - accuracy: 1.0000 - val_loss: 1.7225 - val_accuracy: 0.7000\n",
            "Epoch 23/50\n",
            "5/5 [==============================] - 6s 1s/step - loss: 9.2983e-08 - accuracy: 1.0000 - val_loss: 1.8087 - val_accuracy: 0.7000\n",
            "Epoch 24/50\n",
            "5/5 [==============================] - 6s 1s/step - loss: 1.0085e-06 - accuracy: 1.0000 - val_loss: 1.8645 - val_accuracy: 0.7000\n",
            "Epoch 25/50\n",
            "5/5 [==============================] - 6s 1s/step - loss: 2.0349e-05 - accuracy: 1.0000 - val_loss: 1.9042 - val_accuracy: 0.7000\n",
            "Epoch 26/50\n",
            "5/5 [==============================] - 6s 1s/step - loss: 2.0583e-05 - accuracy: 1.0000 - val_loss: 1.9433 - val_accuracy: 0.7000\n",
            "Epoch 27/50\n",
            "5/5 [==============================] - 6s 1s/step - loss: 2.0583e-05 - accuracy: 1.0000 - val_loss: 2.0814 - val_accuracy: 0.7000\n",
            "Epoch 28/50\n",
            "5/5 [==============================] - 6s 1s/step - loss: 1.2875e-07 - accuracy: 1.0000 - val_loss: 2.1630 - val_accuracy: 0.7000\n",
            "Epoch 29/50\n",
            "5/5 [==============================] - 6s 1s/step - loss: 1.6422e-04 - accuracy: 1.0000 - val_loss: 2.2613 - val_accuracy: 0.7000\n",
            "Epoch 30/50\n",
            "5/5 [==============================] - 6s 1s/step - loss: 4.9591e-07 - accuracy: 1.0000 - val_loss: 2.3328 - val_accuracy: 0.7000\n",
            "Epoch 31/50\n",
            "5/5 [==============================] - 6s 1s/step - loss: 3.9171e-06 - accuracy: 1.0000 - val_loss: 2.3801 - val_accuracy: 0.7000\n",
            "Epoch 32/50\n",
            "5/5 [==============================] - 6s 1s/step - loss: 7.3432e-07 - accuracy: 1.0000 - val_loss: 2.4079 - val_accuracy: 0.7000\n",
            "Epoch 33/50\n",
            "5/5 [==============================] - 6s 1s/step - loss: 4.5300e-08 - accuracy: 1.0000 - val_loss: 2.4217 - val_accuracy: 0.7000\n",
            "Epoch 34/50\n",
            "5/5 [==============================] - 6s 1s/step - loss: 2.4829e-04 - accuracy: 1.0000 - val_loss: 2.7071 - val_accuracy: 0.7000\n",
            "Epoch 35/50\n",
            "5/5 [==============================] - 6s 1s/step - loss: 1.0252e-07 - accuracy: 1.0000 - val_loss: 2.8874 - val_accuracy: 0.7000\n",
            "Epoch 36/50\n",
            "5/5 [==============================] - 6s 1s/step - loss: 3.3397e-05 - accuracy: 1.0000 - val_loss: 2.7860 - val_accuracy: 0.7000\n",
            "Epoch 37/50\n",
            "5/5 [==============================] - 6s 1s/step - loss: 2.6464e-07 - accuracy: 1.0000 - val_loss: 2.7117 - val_accuracy: 0.7000\n",
            "Epoch 38/50\n",
            "5/5 [==============================] - 6s 1s/step - loss: 4.0504e-06 - accuracy: 1.0000 - val_loss: 2.7159 - val_accuracy: 0.7000\n",
            "Epoch 39/50\n",
            "5/5 [==============================] - 6s 1s/step - loss: 7.9500e-04 - accuracy: 1.0000 - val_loss: 2.4228 - val_accuracy: 0.7000\n",
            "Epoch 40/50\n",
            "5/5 [==============================] - 6s 1s/step - loss: 3.0994e-08 - accuracy: 1.0000 - val_loss: 2.3573 - val_accuracy: 0.8000\n",
            "Epoch 41/50\n",
            "5/5 [==============================] - 6s 1s/step - loss: 1.3113e-07 - accuracy: 1.0000 - val_loss: 2.3478 - val_accuracy: 0.8000\n",
            "Epoch 42/50\n",
            "5/5 [==============================] - 6s 1s/step - loss: 8.5592e-07 - accuracy: 1.0000 - val_loss: 2.3387 - val_accuracy: 0.8000\n",
            "Epoch 43/50\n",
            "5/5 [==============================] - 6s 1s/step - loss: 4.6730e-07 - accuracy: 1.0000 - val_loss: 2.3360 - val_accuracy: 0.8000\n",
            "Epoch 44/50\n",
            "5/5 [==============================] - 6s 1s/step - loss: 3.2603e-05 - accuracy: 1.0000 - val_loss: 2.3391 - val_accuracy: 0.8000\n",
            "Epoch 45/50\n",
            "5/5 [==============================] - 6s 1s/step - loss: 9.5367e-09 - accuracy: 1.0000 - val_loss: 2.3447 - val_accuracy: 0.8000\n",
            "Epoch 46/50\n",
            "5/5 [==============================] - 6s 1s/step - loss: 3.9339e-07 - accuracy: 1.0000 - val_loss: 2.3469 - val_accuracy: 0.8000\n",
            "Epoch 47/50\n",
            "5/5 [==============================] - 6s 1s/step - loss: 1.2493e-06 - accuracy: 1.0000 - val_loss: 2.3399 - val_accuracy: 0.8000\n",
            "Epoch 48/50\n",
            "5/5 [==============================] - 6s 1s/step - loss: 1.8835e-07 - accuracy: 1.0000 - val_loss: 2.3357 - val_accuracy: 0.8000\n",
            "Epoch 49/50\n",
            "5/5 [==============================] - 6s 1s/step - loss: 1.0490e-07 - accuracy: 1.0000 - val_loss: 2.3333 - val_accuracy: 0.8000\n",
            "Epoch 50/50\n",
            "5/5 [==============================] - 6s 1s/step - loss: 1.8120e-07 - accuracy: 1.0000 - val_loss: 2.3320 - val_accuracy: 0.8000\n"
          ],
          "name": "stdout"
        }
      ]
    },
    {
      "cell_type": "code",
      "metadata": {
        "id": "FFVxzIupzlYn",
        "colab": {
          "base_uri": "https://localhost:8080/",
          "height": 154
        },
        "outputId": "721529a3-e4ca-443c-8721-953ad19af0ed"
      },
      "source": [
        "model.save(\"HybridNET\")"
      ],
      "execution_count": null,
      "outputs": [
        {
          "output_type": "stream",
          "text": [
            "WARNING:tensorflow:From /usr/local/lib/python3.6/dist-packages/tensorflow/python/training/tracking/tracking.py:111: Model.state_updates (from tensorflow.python.keras.engine.training) is deprecated and will be removed in a future version.\n",
            "Instructions for updating:\n",
            "This property should not be used in TensorFlow 2.0, as updates are applied automatically.\n",
            "WARNING:tensorflow:From /usr/local/lib/python3.6/dist-packages/tensorflow/python/training/tracking/tracking.py:111: Layer.updates (from tensorflow.python.keras.engine.base_layer) is deprecated and will be removed in a future version.\n",
            "Instructions for updating:\n",
            "This property should not be used in TensorFlow 2.0, as updates are applied automatically.\n",
            "INFO:tensorflow:Assets written to: HybridNET/assets\n"
          ],
          "name": "stdout"
        }
      ]
    },
    {
      "cell_type": "code",
      "metadata": {
        "id": "NAYRw-u-VOSG",
        "colab": {
          "base_uri": "https://localhost:8080/",
          "height": 303
        },
        "outputId": "bb80bebb-e336-4960-a767-3c0f14877abf"
      },
      "source": [
        "history = keras.models.load_model(\"HybridNET\")"
      ],
      "execution_count": null,
      "outputs": [
        {
          "output_type": "error",
          "ename": "OSError",
          "evalue": "ignored",
          "traceback": [
            "\u001b[0;31m---------------------------------------------------------------------------\u001b[0m",
            "\u001b[0;31mOSError\u001b[0m                                   Traceback (most recent call last)",
            "\u001b[0;32m<ipython-input-11-394820bcc885>\u001b[0m in \u001b[0;36m<module>\u001b[0;34m()\u001b[0m\n\u001b[0;32m----> 1\u001b[0;31m \u001b[0mhistory\u001b[0m \u001b[0;34m=\u001b[0m \u001b[0mkeras\u001b[0m\u001b[0;34m.\u001b[0m\u001b[0mmodels\u001b[0m\u001b[0;34m.\u001b[0m\u001b[0mload_model\u001b[0m\u001b[0;34m(\u001b[0m\u001b[0;34m\"HybridNET\"\u001b[0m\u001b[0;34m)\u001b[0m\u001b[0;34m\u001b[0m\u001b[0;34m\u001b[0m\u001b[0m\n\u001b[0m",
            "\u001b[0;32m/usr/local/lib/python3.6/dist-packages/tensorflow/python/keras/saving/save.py\u001b[0m in \u001b[0;36mload_model\u001b[0;34m(filepath, custom_objects, compile, options)\u001b[0m\n\u001b[1;32m    184\u001b[0m     \u001b[0mfilepath\u001b[0m \u001b[0;34m=\u001b[0m \u001b[0mpath_to_string\u001b[0m\u001b[0;34m(\u001b[0m\u001b[0mfilepath\u001b[0m\u001b[0;34m)\u001b[0m\u001b[0;34m\u001b[0m\u001b[0;34m\u001b[0m\u001b[0m\n\u001b[1;32m    185\u001b[0m     \u001b[0;32mif\u001b[0m \u001b[0misinstance\u001b[0m\u001b[0;34m(\u001b[0m\u001b[0mfilepath\u001b[0m\u001b[0;34m,\u001b[0m \u001b[0msix\u001b[0m\u001b[0;34m.\u001b[0m\u001b[0mstring_types\u001b[0m\u001b[0;34m)\u001b[0m\u001b[0;34m:\u001b[0m\u001b[0;34m\u001b[0m\u001b[0;34m\u001b[0m\u001b[0m\n\u001b[0;32m--> 186\u001b[0;31m       \u001b[0mloader_impl\u001b[0m\u001b[0;34m.\u001b[0m\u001b[0mparse_saved_model\u001b[0m\u001b[0;34m(\u001b[0m\u001b[0mfilepath\u001b[0m\u001b[0;34m)\u001b[0m\u001b[0;34m\u001b[0m\u001b[0;34m\u001b[0m\u001b[0m\n\u001b[0m\u001b[1;32m    187\u001b[0m       \u001b[0;32mreturn\u001b[0m \u001b[0msaved_model_load\u001b[0m\u001b[0;34m.\u001b[0m\u001b[0mload\u001b[0m\u001b[0;34m(\u001b[0m\u001b[0mfilepath\u001b[0m\u001b[0;34m,\u001b[0m \u001b[0mcompile\u001b[0m\u001b[0;34m,\u001b[0m \u001b[0moptions\u001b[0m\u001b[0;34m)\u001b[0m\u001b[0;34m\u001b[0m\u001b[0;34m\u001b[0m\u001b[0m\n\u001b[1;32m    188\u001b[0m \u001b[0;34m\u001b[0m\u001b[0m\n",
            "\u001b[0;32m/usr/local/lib/python3.6/dist-packages/tensorflow/python/saved_model/loader_impl.py\u001b[0m in \u001b[0;36mparse_saved_model\u001b[0;34m(export_dir)\u001b[0m\n\u001b[1;32m    111\u001b[0m                   (export_dir,\n\u001b[1;32m    112\u001b[0m                    \u001b[0mconstants\u001b[0m\u001b[0;34m.\u001b[0m\u001b[0mSAVED_MODEL_FILENAME_PBTXT\u001b[0m\u001b[0;34m,\u001b[0m\u001b[0;34m\u001b[0m\u001b[0;34m\u001b[0m\u001b[0m\n\u001b[0;32m--> 113\u001b[0;31m                    constants.SAVED_MODEL_FILENAME_PB))\n\u001b[0m\u001b[1;32m    114\u001b[0m \u001b[0;34m\u001b[0m\u001b[0m\n\u001b[1;32m    115\u001b[0m \u001b[0;34m\u001b[0m\u001b[0m\n",
            "\u001b[0;31mOSError\u001b[0m: SavedModel file does not exist at: HybridNET/{saved_model.pbtxt|saved_model.pb}"
          ]
        }
      ]
    },
    {
      "cell_type": "code",
      "metadata": {
        "id": "mWx__M6WHfkH",
        "colab": {
          "base_uri": "https://localhost:8080/",
          "height": 295
        },
        "outputId": "c5c118c9-bbec-446c-b12a-4a1340798df7"
      },
      "source": [
        "loss_train = history.history['loss']\n",
        "loss_val = history.history['val_loss']\n",
        "epochs = range(1,51)\n",
        "plt.plot(epochs, loss_train, 'g', label='Training loss')\n",
        "plt.plot(epochs, loss_val, 'b', label='validation loss')\n",
        "plt.title('Training and Validation loss')\n",
        "plt.xlabel('Epochs')\n",
        "plt.ylabel('Loss')\n",
        "plt.legend()\n",
        "plt.show()"
      ],
      "execution_count": null,
      "outputs": [
        {
          "output_type": "display_data",
          "data": {
            "image/png": "[encoded data removed]",
            "text/plain": [
              "<Figure size 432x288 with 1 Axes>"
            ]
          },
          "metadata": {
            "tags": [],
            "needs_background": "light"
          }
        }
      ]
    },
    {
      "cell_type": "code",
      "metadata": {
        "id": "iqXmbW5MHged",
        "colab": {
          "base_uri": "https://localhost:8080/",
          "height": 295
        },
        "outputId": "9472f280-3b6a-4458-c365-e9c2081cda39"
      },
      "source": [
        "loss_train = history.history['accuracy']\n",
        "loss_val = history.history['val_accuracy']\n",
        "epochs = range(1,51)\n",
        "plt.plot(epochs, loss_train, 'g', label='Training accuracy')\n",
        "plt.plot(epochs, loss_val, 'b', label='validation accuracy')\n",
        "plt.title('Training and Validation accuracy')\n",
        "plt.xlabel('Epochs')\n",
        "plt.ylabel('Accuracy')\n",
        "plt.legend()\n",
        "plt.show()"
      ],
      "execution_count": null,
      "outputs": [
        {
          "output_type": "display_data",
          "data": {
            "image/png": "[encoded data removed]",
            "text/plain": [
              "<Figure size 432x288 with 1 Axes>"
            ]
          },
          "metadata": {
            "tags": [],
            "needs_background": "light"
          }
        }
      ]
    },
    {
      "cell_type": "code",
      "metadata": {
        "id": "rjSW9YFFId-1",
        "colab": {
          "base_uri": "https://localhost:8080/",
          "height": 229
        },
        "outputId": "b3979822-465e-48aa-baa9-d879b8506856"
      },
      "source": [
        "import numpy as np\n",
        "import matplotlib.pyplot as plt\n",
        "\n",
        "from sklearn import svm, datasets\n",
        "from sklearn.model_selection import train_test_split\n",
        "from sklearn.metrics import plot_confusion_matrix\n",
        "\n",
        "# import some data to play with\n",
        "#iris = datasets.load_iris()\n",
        "X = train_X\n",
        "y = train_Y\n",
        "class_names = ['survived','not_survived']\n",
        "train_X = train_X.reshape(50, 20*150*150)\n",
        "train_Y = train_Y.reshape(50,)\n",
        "print(train_Y.shape)\n",
        "\n",
        "# Split the data into a training set and a test set\n",
        "#X_train, X_test, y_train, y_test = train_test_split(X, y, random_state=0)\n",
        "\n",
        "# Run classifier, using a model that is too regularized (C too low) to see\n",
        "# the impact on the results\n",
        "classifier = svm.SVC(kernel='linear', C=0.01).fit(train_X, train_Y)\n",
        "\n",
        "np.set_printoptions(precision=2)\n",
        "\n",
        "# Plot non-normalized confusion matrix\n",
        "titles_options = [(\"Confusion matrix, without normalization\", None),\n",
        "                  (\"Normalized confusion matrix\", 'true')]\n",
        "for title, normalize in titles_options:\n",
        "    disp = plot_confusion_matrix(classifier, valid_X, valid_Y,\n",
        "                                 display_labels=class_names,\n",
        "                                 cmap=plt.cm.Blues,\n",
        "                                 normalize=normalize)\n",
        "    disp.ax_.set_title(title)\n",
        "\n",
        "    print(title)\n",
        "    print(disp.confusion_matrix)\n",
        "\n",
        "plt.show()"
      ],
      "execution_count": null,
      "outputs": [
        {
          "output_type": "error",
          "ename": "ValueError",
          "evalue": "ignored",
          "traceback": [
            "\u001b[0;31m---------------------------------------------------------------------------\u001b[0m",
            "\u001b[0;31mValueError\u001b[0m                                Traceback (most recent call last)",
            "\u001b[0;32m<ipython-input-8-ee389a8466dc>\u001b[0m in \u001b[0;36m<module>\u001b[0;34m()\u001b[0m\n\u001b[1;32m     12\u001b[0m \u001b[0mclass_names\u001b[0m \u001b[0;34m=\u001b[0m \u001b[0;34m[\u001b[0m\u001b[0;34m'survived'\u001b[0m\u001b[0;34m,\u001b[0m\u001b[0;34m'not_survived'\u001b[0m\u001b[0;34m]\u001b[0m\u001b[0;34m\u001b[0m\u001b[0;34m\u001b[0m\u001b[0m\n\u001b[1;32m     13\u001b[0m \u001b[0mtrain_X\u001b[0m \u001b[0;34m=\u001b[0m \u001b[0mtrain_X\u001b[0m\u001b[0;34m.\u001b[0m\u001b[0mreshape\u001b[0m\u001b[0;34m(\u001b[0m\u001b[0;36m50\u001b[0m\u001b[0;34m,\u001b[0m \u001b[0;36m20\u001b[0m\u001b[0;34m*\u001b[0m\u001b[0;36m150\u001b[0m\u001b[0;34m*\u001b[0m\u001b[0;36m150\u001b[0m\u001b[0;34m)\u001b[0m\u001b[0;34m\u001b[0m\u001b[0;34m\u001b[0m\u001b[0m\n\u001b[0;32m---> 14\u001b[0;31m \u001b[0mtrain_Y\u001b[0m \u001b[0;34m=\u001b[0m \u001b[0mtrain_Y\u001b[0m\u001b[0;34m.\u001b[0m\u001b[0mreshape\u001b[0m\u001b[0;34m(\u001b[0m\u001b[0;36m50\u001b[0m\u001b[0;34m,\u001b[0m\u001b[0;34m)\u001b[0m\u001b[0;34m\u001b[0m\u001b[0;34m\u001b[0m\u001b[0m\n\u001b[0m\u001b[1;32m     15\u001b[0m \u001b[0mprint\u001b[0m\u001b[0;34m(\u001b[0m\u001b[0mtrain_Y\u001b[0m\u001b[0;34m.\u001b[0m\u001b[0mshape\u001b[0m\u001b[0;34m)\u001b[0m\u001b[0;34m\u001b[0m\u001b[0;34m\u001b[0m\u001b[0m\n\u001b[1;32m     16\u001b[0m \u001b[0;34m\u001b[0m\u001b[0m\n",
            "\u001b[0;31mValueError\u001b[0m: cannot reshape array of size 100 into shape (50,)"
          ]
        }
      ]
    }
  ]
}